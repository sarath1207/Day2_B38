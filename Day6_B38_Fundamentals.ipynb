{
 "cells": [
  {
   "cell_type": "code",
   "execution_count": 1,
   "metadata": {},
   "outputs": [],
   "source": [
    "#hi sir"
   ]
  },
  {
   "cell_type": "code",
   "execution_count": 2,
   "metadata": {},
   "outputs": [],
   "source": [
    "friends = ['sasi' , 'hari' , 'rahul' , 'vicky' , 'madhan']"
   ]
  },
  {
   "cell_type": "code",
   "execution_count": 3,
   "metadata": {},
   "outputs": [
    {
     "name": "stdout",
     "output_type": "stream",
     "text": [
      "['sasi', 'hari', 'rahul', 'vicky', 'madhan']\n"
     ]
    }
   ],
   "source": [
    "print(friends)"
   ]
  },
  {
   "cell_type": "code",
   "execution_count": 4,
   "metadata": {},
   "outputs": [
    {
     "name": "stdout",
     "output_type": "stream",
     "text": [
      "love you da, Sasi\n"
     ]
    }
   ],
   "source": [
    "print(f\"love you da, {friends[0].title()}\")"
   ]
  },
  {
   "cell_type": "code",
   "execution_count": 5,
   "metadata": {},
   "outputs": [
    {
     "name": "stdout",
     "output_type": "stream",
     "text": [
      "love you da, Hari\n"
     ]
    }
   ],
   "source": [
    "print(f\"love you da, {friends[1].title()}\")"
   ]
  },
  {
   "cell_type": "code",
   "execution_count": 6,
   "metadata": {},
   "outputs": [
    {
     "name": "stdout",
     "output_type": "stream",
     "text": [
      "love you da, Vicky\n"
     ]
    }
   ],
   "source": [
    "print(f\"love you da, {friends[3].title()}\")"
   ]
  },
  {
   "cell_type": "code",
   "execution_count": 8,
   "metadata": {},
   "outputs": [
    {
     "name": "stdout",
     "output_type": "stream",
     "text": [
      "love you da, Sasi\n",
      "love you da, Hari\n",
      "love you da, Rahul\n",
      "love you da, Vicky\n",
      "love you da, Madhan\n"
     ]
    }
   ],
   "source": [
    "for s in friends:\n",
    "    print(f\"love you da, {s.title()}\")"
   ]
  },
  {
   "cell_type": "code",
   "execution_count": 9,
   "metadata": {},
   "outputs": [
    {
     "name": "stdout",
     "output_type": "stream",
     "text": [
      "love you da, Sasi\n",
      "love you da, Hari\n",
      "love you da, Rahul\n",
      "love you da, Vicky\n",
      "love you da, Madhan\n"
     ]
    }
   ],
   "source": [
    "for a in friends:\n",
    "    print(f\"love you da, {a.title()}\")"
   ]
  },
  {
   "cell_type": "code",
   "execution_count": 10,
   "metadata": {},
   "outputs": [
    {
     "name": "stdout",
     "output_type": "stream",
     "text": [
      "love you da, Sasi\n",
      "stay together, Sasi\n",
      "love you da, Hari\n",
      "stay together, Hari\n",
      "love you da, Rahul\n",
      "stay together, Rahul\n",
      "love you da, Vicky\n",
      "stay together, Vicky\n",
      "love you da, Madhan\n",
      "stay together, Madhan\n"
     ]
    }
   ],
   "source": [
    "for a in friends:\n",
    "    print(f\"love you da, {a.title()}\")\n",
    "    print(f\"stay together, {a.title()}\")"
   ]
  },
  {
   "cell_type": "code",
   "execution_count": 11,
   "metadata": {},
   "outputs": [
    {
     "name": "stdout",
     "output_type": "stream",
     "text": [
      "love you da, Sasi\n",
      "stay together, Sasi\n",
      "love you da, Hari\n",
      "stay together, Hari\n",
      "love you da, Rahul\n",
      "stay together, Rahul\n",
      "love you da, Vicky\n",
      "stay together, Vicky\n",
      "love you da, Madhan\n",
      "stay together, Madhan\n",
      "Miss you da\n"
     ]
    }
   ],
   "source": [
    "for a in friends:\n",
    "    print(f\"love you da, {a.title()}\")\n",
    "    print(f\"stay together, {a.title()}\")\n",
    "print(\"Miss you da\")"
   ]
  },
  {
   "cell_type": "code",
   "execution_count": 13,
   "metadata": {},
   "outputs": [
    {
     "name": "stdout",
     "output_type": "stream",
     "text": [
      "love you da, Sasi\n",
      "stay together, Sasi.\n",
      "\n",
      "love you da, Hari\n",
      "stay together, Hari.\n",
      "\n",
      "love you da, Rahul\n",
      "stay together, Rahul.\n",
      "\n",
      "love you da, Vicky\n",
      "stay together, Vicky.\n",
      "\n",
      "love you da, Madhan\n",
      "stay together, Madhan.\n",
      "\n",
      "Miss you da\n"
     ]
    }
   ],
   "source": [
    "for a in friends:\n",
    "    print(f\"love you da, {a.title()}\")\n",
    "    print(f\"stay together, {a.title()}.\\n\")\n",
    "print(\"Miss you da\")"
   ]
  },
  {
   "cell_type": "code",
   "execution_count": null,
   "metadata": {},
   "outputs": [],
   "source": [
    "#thanks sir"
   ]
  }
 ],
 "metadata": {
  "kernelspec": {
   "display_name": "Python 3",
   "language": "python",
   "name": "python3"
  },
  "language_info": {
   "codemirror_mode": {
    "name": "ipython",
    "version": 3
   },
   "file_extension": ".py",
   "mimetype": "text/x-python",
   "name": "python",
   "nbconvert_exporter": "python",
   "pygments_lexer": "ipython3",
   "version": "3.8.5"
  }
 },
 "nbformat": 4,
 "nbformat_minor": 4
}
